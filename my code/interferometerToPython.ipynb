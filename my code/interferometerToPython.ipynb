{
 "cells": [
  {
   "cell_type": "code",
   "execution_count": 1,
   "metadata": {},
   "outputs": [
    {
     "ename": "ModuleNotFoundError",
     "evalue": "No module named 'serial'",
     "output_type": "error",
     "traceback": [
      "\u001b[0;31m---------------------------------------------------------------------------\u001b[0m",
      "\u001b[0;31mModuleNotFoundError\u001b[0m                       Traceback (most recent call last)",
      "\u001b[0;32m<ipython-input-1-55de71e07f14>\u001b[0m in \u001b[0;36m<module>\u001b[0;34m\u001b[0m\n\u001b[1;32m      4\u001b[0m \u001b[0;32mfrom\u001b[0m \u001b[0mscipy\u001b[0m\u001b[0;34m.\u001b[0m\u001b[0moptimize\u001b[0m \u001b[0;32mimport\u001b[0m \u001b[0mcurve_fit\u001b[0m\u001b[0;34m\u001b[0m\u001b[0m\n\u001b[1;32m      5\u001b[0m \u001b[0;32mimport\u001b[0m \u001b[0mtime\u001b[0m\u001b[0;34m\u001b[0m\u001b[0m\n\u001b[0;32m----> 6\u001b[0;31m \u001b[0;32mimport\u001b[0m \u001b[0mserial\u001b[0m\u001b[0;34m.\u001b[0m\u001b[0mtools\u001b[0m\u001b[0;34m.\u001b[0m\u001b[0mlist_ports\u001b[0m\u001b[0;34m\u001b[0m\u001b[0m\n\u001b[0m\u001b[1;32m      7\u001b[0m \u001b[0;32mimport\u001b[0m \u001b[0mopenpyxl\u001b[0m\u001b[0;34m\u001b[0m\u001b[0m\n\u001b[1;32m      8\u001b[0m \u001b[0;32mfrom\u001b[0m \u001b[0mopenpyxl\u001b[0m\u001b[0;34m.\u001b[0m\u001b[0mdrawing\u001b[0m\u001b[0;34m.\u001b[0m\u001b[0mimage\u001b[0m \u001b[0;32mimport\u001b[0m \u001b[0mImage\u001b[0m\u001b[0;34m\u001b[0m\u001b[0m\n",
      "\u001b[0;31mModuleNotFoundError\u001b[0m: No module named 'serial'"
     ]
    }
   ],
   "source": [
    "#importing stuffs\n",
    "import numpy as np\n",
    "import matplotlib.pyplot as plt\n",
    "from scipy.optimize import curve_fit  \n",
    "import time\n",
    "import serial.tools.list_ports\n",
    "import openpyxl \n",
    "from openpyxl.drawing.image import Image"
   ]
  },
  {
   "cell_type": "code",
   "execution_count": null,
   "metadata": {},
   "outputs": [],
   "source": [
    "#variables\n",
    "ports = serial.tools.list_ports.comports()\n",
    "serialInst = serial.Serial()\n",
    "\n",
    "portList = []\n",
    "\n",
    "#listing ports\n",
    "for port in ports:\n",
    "    portList.append(str(port))\n",
    "    print(str(port))\n",
    "\n",
    "#allowing user to select a port\n",
    "inp = input(\"select Port: COM\")\n",
    "\n",
    "#selecting the port and making it usable\n",
    "for x in range(0,len(portList)):\n",
    "    if portList[x].startswith(\"COM\" + str(inp)):\n",
    "        portVar = \"COM\" + str(inp)\n",
    "        print(portList[x])\n",
    "\n",
    "#initailizing stuffs\n",
    "serialInst = serial.Serial() #this is which comport the arduino is connected to.\n",
    "serialInst.baudrate = 1000000 #setting things up to read data\n",
    "serialInst.port = portVar\n",
    "serialInst.open()\n",
    "time.sleep(3)"
   ]
  },
  {
   "cell_type": "code",
   "execution_count": 31,
   "metadata": {},
   "outputs": [],
   "source": [
    "#gathering data\n",
    "\n",
    "#throwing trash data away \n",
    "for i in range(50):\n",
    "    if serialInst.in_waiting:\n",
    "        serialInst.readline()\n",
    "        #print(i)\n",
    "\n",
    "#intial empty list for gathering data\n",
    "dataL = []\n",
    "\n",
    "#declaring data points\n",
    "PointLim = 500\n",
    "DataPoints = 0\n",
    "\n",
    "while DataPoints < PointLim:\n",
    "    if serialInst.in_waiting:\n",
    "        data = serialInst.readline()\n",
    "        #print(data.decode('utf').rstrip('\\n'))\n",
    "        DecodedData = data.decode('utf').rstrip('\\n')\n",
    "        dataL.append(float(DecodedData.rstrip('\\r')))\n",
    "        DataPoints +=1\n",
    "        #print(DataPoints)\n",
    "        \n",
    "#print(dataL)\n",
    "#print(len(dataL))"
   ]
  },
  {
   "cell_type": "code",
   "execution_count": 32,
   "metadata": {},
   "outputs": [],
   "source": [
    "#function block\n",
    "def funct(t, A, B, f, phi):\n",
    "    \"\"\"\n",
    "    Variable names!\n",
    "    A = Amplitude\n",
    "    B = Vertical Displacement \n",
    "    t = time\n",
    "    f = frequency\n",
    "    phi = phase shift\n",
    "    \"\"\"\n",
    "    return(float(A)*np.sin(2.0*np.pi*f*t + phi) + B)"
   ]
  },
  {
   "cell_type": "code",
   "execution_count": 33,
   "metadata": {},
   "outputs": [
    {
     "name": "stdout",
     "output_type": "stream",
     "text": [
      "887.0 254.0\n",
      "316.5 570.5\n"
     ]
    },
    {
     "data": {
      "image/png": "[encoded data removed]",
      "text/plain": [
       "<Figure size 432x288 with 1 Axes>"
      ]
     },
     "metadata": {
      "needs_background": "light"
     },
     "output_type": "display_data"
    },
    {
     "name": "stdout",
     "output_type": "stream",
     "text": [
      "316.5 570.5\n",
      "[180.67750613 471.86512799   8.4145067    0.6401774 ]\n",
      "[845.0, 854.0, 866.0, 874.0, 877.0, 880.0, 882.0, 884.0, 877.0, 872.0, 868.0, 861.0, 853.0, 845.0, 835.0, 821.0, 809.0, 799.0, 785.0, 772.0, 760.0, 748.0, 734.0, 725.0, 727.0, 711.0, 699.0, 678.0, 666.0, 655.0, 643.0, 628.0, 607.0, 592.0, 575.0, 561.0, 549.0, 530.0, 516.0, 501.0, 489.0, 476.0, 466.0, 455.0, 443.0, 433.0, 425.0, 416.0, 407.0, 397.0, 387.0, 377.0, 370.0, 354.0, 336.0, 326.0, 319.0, 317.0, 308.0, 300.0, 291.0, 291.0, 294.0, 287.0, 287.0, 282.0, 280.0, 279.0, 274.0, 272.0, 268.0, 266.0, 264.0, 262.0, 261.0, 260.0, 260.0, 256.0, 256.0, 257.0, 256.0, 256.0, 255.0, 264.0, 276.0, 272.0, 273.0, 268.0, 268.0, 271.0, 272.0, 274.0, 263.0, 272.0, 272.0, 274.0, 275.0, 276.0, 275.0, 280.0, 281.0, 284.0, 285.0, 285.0, 290.0, 290.0, 293.0, 296.0, 296.0, 298.0, 299.0, 300.0, 305.0, 297.0, 292.0, 297.0, 301.0, 310.0, 310.0, 308.0, 308.0, 315.0, 320.0, 321.0, 323.0, 325.0, 327.0, 326.0, 329.0, 331.0, 332.0, 332.0, 336.0, 338.0, 339.0, 341.0, 345.0, 345.0, 346.0, 348.0, 349.0, 349.0, 353.0, 367.0, 370.0, 367.0, 369.0, 362.0, 364.0, 373.0, 373.0, 369.0, 364.0, 373.0, 368.0, 370.0, 372.0, 371.0, 370.0, 368.0, 368.0, 367.0, 369.0, 372.0, 371.0, 373.0, 375.0, 379.0, 381.0, 385.0, 387.0, 389.0, 391.0, 377.0, 375.0, 381.0, 384.0, 385.0, 382.0, 380.0, 382.0, 391.0, 393.0, 394.0, 396.0, 397.0, 401.0, 403.0, 400.0, 403.0, 406.0, 409.0, 408.0, 409.0, 411.0, 411.0, 411.0, 410.0, 414.0, 416.0, 418.0, 416.0, 418.0, 434.0, 434.0, 433.0, 431.0, 429.0, 431.0, 433.0, 428.0, 425.0, 425.0, 425.0, 423.0, 421.0, 422.0, 423.0, 422.0, 423.0, 427.0, 429.0, 430.0, 429.0, 428.0, 431.0, 432.0, 432.0, 433.0, 434.0, 434.0, 435.0, 428.0, 420.0, 422.0, 424.0, 428.0, 430.0, 431.0, 432.0, 434.0, 440.0, 440.0, 443.0, 445.0, 447.0, 447.0, 446.0, 447.0, 450.0, 452.0, 450.0, 449.0, 450.0, 453.0, 454.0, 455.0, 455.0, 455.0, 458.0, 460.0, 458.0, 467.0, 476.0, 474.0, 474.0, 470.0, 470.0, 470.0, 478.0, 470.0, 461.0, 462.0, 463.0, 461.0, 464.0, 462.0, 463.0, 464.0, 462.0, 466.0, 467.0, 469.0, 470.0, 471.0, 473.0, 475.0, 478.0, 478.0, 477.0, 475.0, 476.0, 457.0, 439.0, 429.0, 420.0, 409.0, 397.0, 378.0, 362.0, 353.0, 345.0, 326.0, 320.0, 307.0, 303.0, 295.0, 290.0, 283.0, 277.0, 274.0, 271.0, 270.0, 267.0, 263.0, 261.0, 259.0, 257.0, 257.0, 260.0, 264.0, 265.0, 279.0, 288.0, 290.0, 297.0, 300.0, 312.0, 320.0, 324.0, 328.0, 330.0, 340.0, 351.0, 360.0, 373.0, 388.0, 401.0, 418.0, 432.0, 450.0, 467.0, 483.0, 497.0, 512.0, 526.0, 540.0, 551.0, 562.0, 575.0, 589.0, 602.0, 604.0, 620.0, 636.0, 660.0, 683.0, 700.0, 714.0, 732.0, 752.0, 775.0, 784.0, 796.0, 803.0, 812.0, 823.0, 828.0, 837.0, 843.0, 850.0, 853.0, 860.0, 867.0, 874.0, 878.0, 880.0, 882.0, 881.0, 882.0, 881.0, 878.0, 887.0, 884.0, 880.0, 868.0, 863.0, 860.0, 854.0, 844.0, 829.0, 822.0, 807.0, 791.0, 780.0, 764.0, 748.0, 735.0, 717.0, 700.0, 686.0, 673.0, 657.0, 642.0, 630.0, 617.0, 603.0, 587.0, 568.0, 552.0, 534.0, 509.0, 480.0, 464.0, 442.0, 429.0, 413.0, 396.0, 377.0, 363.0, 360.0, 347.0, 340.0, 328.0, 319.0, 307.0, 307.0, 297.0, 287.0, 278.0, 271.0, 266.0, 265.0, 261.0, 258.0, 254.0, 254.0, 258.0, 261.0, 263.0, 265.0, 278.0, 292.0, 297.0, 304.0, 305.0, 313.0, 324.0, 337.0, 346.0, 358.0, 367.0, 380.0, 395.0, 413.0, 428.0, 445.0, 466.0, 479.0, 494.0, 510.0, 527.0, 542.0, 559.0, 578.0, 594.0, 611.0, 629.0, 648.0, 666.0, 685.0, 694.0, 704.0, 727.0, 743.0, 766.0, 776.0, 786.0, 799.0, 811.0, 830.0, 834.0, 843.0, 847.0, 860.0, 866.0, 874.0, 875.0, 879.0, 884.0, 886.0, 886.0, 887.0, 882.0, 879.0, 873.0, 867.0, 862.0, 854.0, 845.0]\n",
      "316.5 570.5\n",
      "0.5547765118317266\n"
     ]
    }
   ],
   "source": [
    "#curve fitting\n",
    "\n",
    "#Determine values for A and B such that the curve fitting function will have a good first guess. (basic trig powers unite!)\n",
    "print(np.max(dataL), np.min(dataL))\n",
    "B = float((np.max(dataL) + np.min(dataL))/2.0)\n",
    "A = float(np.max(dataL) - B)\n",
    "print(A, B)\n",
    "F = np.fft.fft(dataL)\n",
    "fq = np.fft.fftfreq(F.shape[0], 0.001)\n",
    "F = F[fq > 4]\n",
    "fq = fq[fq > 4]\n",
    "fi = np.argmax(np.abs(F))\n",
    "f = fq[fi]\n",
    "phi = np.angle(F[fi])\n",
    "\n",
    "plt.plot(np.abs(F))\n",
    "plt.show()\n",
    "print(A, B)\n",
    "\n",
    "p0 = [A, B, f, phi]\n",
    "\n",
    "t = np.arange(0, 0.5, 0.001)\n",
    "#write curve fitting function\n",
    "#the t value is the one determined two code chunks above (t = 500)\n",
    "fitvals, fitcov = curve_fit(funct, t, dataL, p0 = p0, maxfev=10000)\n",
    "print(fitvals)\n",
    "\n",
    "print(dataL)\n",
    "\n",
    "#visiblity\n",
    "print(A, B)\n",
    "V = A/B\n",
    "print(V)"
   ]
  },
  {
   "cell_type": "code",
   "execution_count": 34,
   "metadata": {},
   "outputs": [
    {
     "data": {
      "image/png": "[encoded data removed]",
      "text/plain": [
       "<Figure size 216x216 with 1 Axes>"
      ]
     },
     "metadata": {
      "needs_background": "light"
     },
     "output_type": "display_data"
    }
   ],
   "source": [
    "#mixed plot\n",
    "plt.plot(t, dataL, label = 'Original Data')\n",
    "plt.plot(t, funct(t, *fitvals), \"r-\", label = 'Fitted Curve')\n",
    "plt.legend(loc='best')\n",
    "figure = plt.gcf()\n",
    "figure.set_size_inches(3, 3)\n",
    "plt.savefig(\"fitted_curve.png\")\n",
    "plt.show()"
   ]
  },
  {
   "cell_type": "code",
   "execution_count": 35,
   "metadata": {},
   "outputs": [
    {
     "ename": "PermissionError",
     "evalue": "[Errno 13] Permission denied: 'laser_data.xlsx'",
     "output_type": "error",
     "traceback": [
      "\u001b[1;31m---------------------------------------------------------------------------\u001b[0m",
      "\u001b[1;31mPermissionError\u001b[0m                           Traceback (most recent call last)",
      "\u001b[1;32mc:\\ResearchStuffs\\ArdRead.ipynb Cell 7\u001b[0m in \u001b[0;36m<cell line: 8>\u001b[1;34m()\u001b[0m\n\u001b[0;32m      <a href='vscode-notebook-cell:/c%3A/ResearchStuffs/ArdRead.ipynb#ch0000006?line=5'>6</a>\u001b[0m ws \u001b[39m=\u001b[39m wb\u001b[39m.\u001b[39mactive\n\u001b[0;32m      <a href='vscode-notebook-cell:/c%3A/ResearchStuffs/ArdRead.ipynb#ch0000006?line=6'>7</a>\u001b[0m ws\u001b[39m.\u001b[39madd_image(img, \u001b[39m\"\u001b[39m\u001b[39mC2\u001b[39m\u001b[39m\"\u001b[39m)\n\u001b[1;32m----> <a href='vscode-notebook-cell:/c%3A/ResearchStuffs/ArdRead.ipynb#ch0000006?line=7'>8</a>\u001b[0m wb\u001b[39m.\u001b[39;49msave(\u001b[39m\"\u001b[39;49m\u001b[39mlaser_data.xlsx\u001b[39;49m\u001b[39m\"\u001b[39;49m)\n\u001b[0;32m     <a href='vscode-notebook-cell:/c%3A/ResearchStuffs/ArdRead.ipynb#ch0000006?line=9'>10</a>\u001b[0m \u001b[39m#visiblity\u001b[39;00m\n\u001b[0;32m     <a href='vscode-notebook-cell:/c%3A/ResearchStuffs/ArdRead.ipynb#ch0000006?line=10'>11</a>\u001b[0m \u001b[39mprint\u001b[39m(A, B)\n",
      "File \u001b[1;32mc:\\Users\\lises\\AppData\\Local\\Programs\\Python\\Python310\\lib\\site-packages\\openpyxl\\workbook\\workbook.py:407\u001b[0m, in \u001b[0;36mWorkbook.save\u001b[1;34m(self, filename)\u001b[0m\n\u001b[0;32m    405\u001b[0m \u001b[39mif\u001b[39;00m \u001b[39mself\u001b[39m\u001b[39m.\u001b[39mwrite_only \u001b[39mand\u001b[39;00m \u001b[39mnot\u001b[39;00m \u001b[39mself\u001b[39m\u001b[39m.\u001b[39mworksheets:\n\u001b[0;32m    406\u001b[0m     \u001b[39mself\u001b[39m\u001b[39m.\u001b[39mcreate_sheet()\n\u001b[1;32m--> 407\u001b[0m save_workbook(\u001b[39mself\u001b[39;49m, filename)\n",
      "File \u001b[1;32mc:\\Users\\lises\\AppData\\Local\\Programs\\Python\\Python310\\lib\\site-packages\\openpyxl\\writer\\excel.py:291\u001b[0m, in \u001b[0;36msave_workbook\u001b[1;34m(workbook, filename)\u001b[0m\n\u001b[0;32m    279\u001b[0m \u001b[39mdef\u001b[39;00m \u001b[39msave_workbook\u001b[39m(workbook, filename):\n\u001b[0;32m    280\u001b[0m     \u001b[39m\"\"\"Save the given workbook on the filesystem under the name filename.\u001b[39;00m\n\u001b[0;32m    281\u001b[0m \n\u001b[0;32m    282\u001b[0m \u001b[39m    :param workbook: the workbook to save\u001b[39;00m\n\u001b[1;32m   (...)\u001b[0m\n\u001b[0;32m    289\u001b[0m \n\u001b[0;32m    290\u001b[0m \u001b[39m    \"\"\"\u001b[39;00m\n\u001b[1;32m--> 291\u001b[0m     archive \u001b[39m=\u001b[39m ZipFile(filename, \u001b[39m'\u001b[39;49m\u001b[39mw\u001b[39;49m\u001b[39m'\u001b[39;49m, ZIP_DEFLATED, allowZip64\u001b[39m=\u001b[39;49m\u001b[39mTrue\u001b[39;49;00m)\n\u001b[0;32m    292\u001b[0m     writer \u001b[39m=\u001b[39m ExcelWriter(workbook, archive)\n\u001b[0;32m    293\u001b[0m     writer\u001b[39m.\u001b[39msave()\n",
      "File \u001b[1;32mc:\\Users\\lises\\AppData\\Local\\Programs\\Python\\Python310\\lib\\zipfile.py:1249\u001b[0m, in \u001b[0;36mZipFile.__init__\u001b[1;34m(self, file, mode, compression, allowZip64, compresslevel, strict_timestamps)\u001b[0m\n\u001b[0;32m   1247\u001b[0m \u001b[39mwhile\u001b[39;00m \u001b[39mTrue\u001b[39;00m:\n\u001b[0;32m   1248\u001b[0m     \u001b[39mtry\u001b[39;00m:\n\u001b[1;32m-> 1249\u001b[0m         \u001b[39mself\u001b[39m\u001b[39m.\u001b[39mfp \u001b[39m=\u001b[39m io\u001b[39m.\u001b[39;49mopen(file, filemode)\n\u001b[0;32m   1250\u001b[0m     \u001b[39mexcept\u001b[39;00m \u001b[39mOSError\u001b[39;00m:\n\u001b[0;32m   1251\u001b[0m         \u001b[39mif\u001b[39;00m filemode \u001b[39min\u001b[39;00m modeDict:\n",
      "\u001b[1;31mPermissionError\u001b[0m: [Errno 13] Permission denied: 'laser_data.xlsx'"
     ]
    }
   ],
   "source": [
    "#Exporting to excel\n",
    "img = Image(\"fitted_curve.png\")\n",
    "\n",
    "wb = openpyxl.load_workbook(\"laser_data.xlsx\")\n",
    "wb.active = 0\n",
    "ws = wb.active\n",
    "ws.add_image(img, \"C2\")\n",
    "wb.save(\"laser_data.xlsx\")\n",
    "\n",
    "#visiblity\n",
    "print(A, B)\n",
    "V = A/B\n",
    "print(V)"
   ]
  },
  {
   "cell_type": "code",
   "execution_count": null,
   "metadata": {},
   "outputs": [],
   "source": []
  }
 ],
 "metadata": {
  "kernelspec": {
   "display_name": "Python 3",
   "language": "python",
   "name": "python3"
  },
  "language_info": {
   "codemirror_mode": {
    "name": "ipython",
    "version": 3
   },
   "file_extension": ".py",
   "mimetype": "text/x-python",
   "name": "python",
   "nbconvert_exporter": "python",
   "pygments_lexer": "ipython3",
   "version": "3.6.6+"
  },
  "vscode": {
   "interpreter": {
    "hash": "8498851fdb8f20aac0be0c513133504d41018d140b7992e21b4a91b7f62ead50"
   }
  }
 },
 "nbformat": 4,
 "nbformat_minor": 2
}
